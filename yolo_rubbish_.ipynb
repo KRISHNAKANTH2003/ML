{
  "nbformat": 4,
  "nbformat_minor": 0,
  "metadata": {
    "colab": {
      "provenance": [],
      "gpuType": "T4",
      "authorship_tag": "ABX9TyP5DB1wAHA80209DVYoyC1P",
      "include_colab_link": true
    },
    "kernelspec": {
      "name": "python3",
      "display_name": "Python 3"
    },
    "language_info": {
      "name": "python"
    },
    "accelerator": "GPU"
  },
  "cells": [
    {
      "cell_type": "markdown",
      "metadata": {
        "id": "view-in-github",
        "colab_type": "text"
      },
      "source": [
        "<a href=\"https://colab.research.google.com/github/KRISHNAKANTH2003/ML/blob/main/yolo_rubbish_.ipynb\" target=\"_parent\"><img src=\"https://colab.research.google.com/assets/colab-badge.svg\" alt=\"Open In Colab\"/></a>"
      ]
    },
    {
      "cell_type": "code",
      "source": [
        "%pip install ultralytics"
      ],
      "metadata": {
        "colab": {
          "base_uri": "https://localhost:8080/"
        },
        "id": "JLD_vrkKeekG",
        "outputId": "9420f77e-a763-439e-feac-a084d1e4f220"
      },
      "execution_count": 102,
      "outputs": [
        {
          "output_type": "stream",
          "name": "stdout",
          "text": [
            "Requirement already satisfied: ultralytics in /usr/local/lib/python3.10/dist-packages (8.3.49)\n",
            "Requirement already satisfied: numpy>=1.23.0 in /usr/local/lib/python3.10/dist-packages (from ultralytics) (1.23.0)\n",
            "Requirement already satisfied: matplotlib>=3.3.0 in /usr/local/lib/python3.10/dist-packages (from ultralytics) (3.8.0)\n",
            "Requirement already satisfied: opencv-python>=4.6.0 in /usr/local/lib/python3.10/dist-packages (from ultralytics) (4.10.0.84)\n",
            "Requirement already satisfied: pillow>=7.1.2 in /usr/local/lib/python3.10/dist-packages (from ultralytics) (11.0.0)\n",
            "Requirement already satisfied: pyyaml>=5.3.1 in /usr/local/lib/python3.10/dist-packages (from ultralytics) (6.0.2)\n",
            "Requirement already satisfied: requests>=2.23.0 in /usr/local/lib/python3.10/dist-packages (from ultralytics) (2.32.3)\n",
            "Requirement already satisfied: scipy>=1.4.1 in /usr/local/lib/python3.10/dist-packages (from ultralytics) (1.13.1)\n",
            "Requirement already satisfied: torch>=1.8.0 in /usr/local/lib/python3.10/dist-packages (from ultralytics) (2.5.1+cu121)\n",
            "Requirement already satisfied: torchvision>=0.9.0 in /usr/local/lib/python3.10/dist-packages (from ultralytics) (0.20.1+cu121)\n",
            "Requirement already satisfied: tqdm>=4.64.0 in /usr/local/lib/python3.10/dist-packages (from ultralytics) (4.66.6)\n",
            "Requirement already satisfied: psutil in /usr/local/lib/python3.10/dist-packages (from ultralytics) (5.9.5)\n",
            "Requirement already satisfied: py-cpuinfo in /usr/local/lib/python3.10/dist-packages (from ultralytics) (9.0.0)\n",
            "Requirement already satisfied: pandas>=1.1.4 in /usr/local/lib/python3.10/dist-packages (from ultralytics) (2.2.2)\n",
            "Requirement already satisfied: seaborn>=0.11.0 in /usr/local/lib/python3.10/dist-packages (from ultralytics) (0.13.2)\n",
            "Requirement already satisfied: ultralytics-thop>=2.0.0 in /usr/local/lib/python3.10/dist-packages (from ultralytics) (2.0.13)\n",
            "Requirement already satisfied: contourpy>=1.0.1 in /usr/local/lib/python3.10/dist-packages (from matplotlib>=3.3.0->ultralytics) (1.3.1)\n",
            "Requirement already satisfied: cycler>=0.10 in /usr/local/lib/python3.10/dist-packages (from matplotlib>=3.3.0->ultralytics) (0.12.1)\n",
            "Requirement already satisfied: fonttools>=4.22.0 in /usr/local/lib/python3.10/dist-packages (from matplotlib>=3.3.0->ultralytics) (4.55.1)\n",
            "Requirement already satisfied: kiwisolver>=1.0.1 in /usr/local/lib/python3.10/dist-packages (from matplotlib>=3.3.0->ultralytics) (1.4.7)\n",
            "Requirement already satisfied: packaging>=20.0 in /usr/local/lib/python3.10/dist-packages (from matplotlib>=3.3.0->ultralytics) (24.2)\n",
            "Requirement already satisfied: pyparsing>=2.3.1 in /usr/local/lib/python3.10/dist-packages (from matplotlib>=3.3.0->ultralytics) (3.2.0)\n",
            "Requirement already satisfied: python-dateutil>=2.7 in /usr/local/lib/python3.10/dist-packages (from matplotlib>=3.3.0->ultralytics) (2.8.2)\n",
            "Requirement already satisfied: pytz>=2020.1 in /usr/local/lib/python3.10/dist-packages (from pandas>=1.1.4->ultralytics) (2024.2)\n",
            "Requirement already satisfied: tzdata>=2022.7 in /usr/local/lib/python3.10/dist-packages (from pandas>=1.1.4->ultralytics) (2024.2)\n",
            "Requirement already satisfied: charset-normalizer<4,>=2 in /usr/local/lib/python3.10/dist-packages (from requests>=2.23.0->ultralytics) (3.4.0)\n",
            "Requirement already satisfied: idna<4,>=2.5 in /usr/local/lib/python3.10/dist-packages (from requests>=2.23.0->ultralytics) (3.10)\n",
            "Requirement already satisfied: urllib3<3,>=1.21.1 in /usr/local/lib/python3.10/dist-packages (from requests>=2.23.0->ultralytics) (2.2.3)\n",
            "Requirement already satisfied: certifi>=2017.4.17 in /usr/local/lib/python3.10/dist-packages (from requests>=2.23.0->ultralytics) (2024.8.30)\n",
            "Requirement already satisfied: filelock in /usr/local/lib/python3.10/dist-packages (from torch>=1.8.0->ultralytics) (3.16.1)\n",
            "Requirement already satisfied: typing-extensions>=4.8.0 in /usr/local/lib/python3.10/dist-packages (from torch>=1.8.0->ultralytics) (4.12.2)\n",
            "Requirement already satisfied: networkx in /usr/local/lib/python3.10/dist-packages (from torch>=1.8.0->ultralytics) (3.4.2)\n",
            "Requirement already satisfied: jinja2 in /usr/local/lib/python3.10/dist-packages (from torch>=1.8.0->ultralytics) (3.1.4)\n",
            "Requirement already satisfied: fsspec in /usr/local/lib/python3.10/dist-packages (from torch>=1.8.0->ultralytics) (2024.10.0)\n",
            "Requirement already satisfied: sympy==1.13.1 in /usr/local/lib/python3.10/dist-packages (from torch>=1.8.0->ultralytics) (1.13.1)\n",
            "Requirement already satisfied: mpmath<1.4,>=1.1.0 in /usr/local/lib/python3.10/dist-packages (from sympy==1.13.1->torch>=1.8.0->ultralytics) (1.3.0)\n",
            "Requirement already satisfied: six>=1.5 in /usr/local/lib/python3.10/dist-packages (from python-dateutil>=2.7->matplotlib>=3.3.0->ultralytics) (1.16.0)\n",
            "Requirement already satisfied: MarkupSafe>=2.0 in /usr/local/lib/python3.10/dist-packages (from jinja2->torch>=1.8.0->ultralytics) (3.0.2)\n"
          ]
        }
      ]
    },
    {
      "cell_type": "code",
      "source": [
        "import os\n",
        "import cv2\n",
        "import numpy as np\n",
        "import pandas as pd\n",
        "from tqdm import tqdm\n",
        "import shutil\n",
        "from shutil import copyfile\n",
        "import matplotlib.pyplot as plt\n",
        "from matplotlib import animation, rc\n",
        "rc('animation', html='jshtml')\n",
        "from PIL import Image\n",
        "\n",
        "import ultralytics\n",
        "from ultralytics import YOLO\n",
        "ultralytics.checks()"
      ],
      "metadata": {
        "colab": {
          "base_uri": "https://localhost:8080/"
        },
        "id": "ZCWGsfeSehFM",
        "outputId": "ce1e6c2c-4116-4328-98f5-81b4e0652aae"
      },
      "execution_count": 103,
      "outputs": [
        {
          "output_type": "stream",
          "name": "stdout",
          "text": [
            "Ultralytics 8.3.49 🚀 Python-3.10.12 torch-2.5.1+cu121 CPU (Intel Xeon 2.20GHz)\n",
            "Setup complete ✅ (2 CPUs, 12.7 GB RAM, 34.0/107.7 GB disk)\n"
          ]
        }
      ]
    },
    {
      "cell_type": "code",
      "source": [
        "import kagglehub\n",
        "\n",
        "# Download latest version\n",
        "path = kagglehub.dataset_download(\"vencerlanz09/taco-dataset-yolo-format\")\n",
        "train = path + '/train'\n",
        "valid = path + '/valid'\n",
        "test = path + '/test'\n",
        "\n",
        "print(\"Path to dataset files:\", path)\n",
        "\n",
        "print(\"Path to dataset files:\", train)"
      ],
      "metadata": {
        "colab": {
          "base_uri": "https://localhost:8080/"
        },
        "id": "s6wvrfXjw64C",
        "outputId": "9c702226-581f-4a7d-d927-bd92570b2cbf"
      },
      "execution_count": 104,
      "outputs": [
        {
          "output_type": "stream",
          "name": "stdout",
          "text": [
            "Path to dataset files: /root/.cache/kagglehub/datasets/vencerlanz09/taco-dataset-yolo-format/versions/1\n",
            "Path to dataset files: /root/.cache/kagglehub/datasets/vencerlanz09/taco-dataset-yolo-format/versions/1/train\n"
          ]
        }
      ]
    },
    {
      "cell_type": "code",
      "source": [
        "import os\n",
        "print(os.listdir(train))\n"
      ],
      "metadata": {
        "colab": {
          "base_uri": "https://localhost:8080/"
        },
        "id": "VyUp084P0KJd",
        "outputId": "6255ec0f-8596-453d-da43-2cf7613af164"
      },
      "execution_count": 105,
      "outputs": [
        {
          "output_type": "stream",
          "name": "stdout",
          "text": [
            "['labels', 'images', 'labels.cache']\n"
          ]
        }
      ]
    },
    {
      "cell_type": "code",
      "source": [
        "import yaml\n",
        "\n",
        "data_yaml = dict(\n",
        "    train =train,\n",
        "    val =valid,\n",
        "    test =test,\n",
        "    nc =18,\n",
        "    names =['Aluminium foil', 'Bottle cap', 'Bottle', 'Broken glass', 'Can',\n",
        "            'Carton', 'Cigarette', 'Cup', 'Lid', 'Other litter', 'Other plastic',\n",
        "            'Paper', 'Plastic bag - wrapper', 'Plastic container', 'Pop tab',\n",
        "            'Straw', 'Styrofoam piece', 'Unlabeled litter']\n",
        ")\n",
        "\n",
        "with open('data.yaml', 'w') as outfile:\n",
        "    yaml.dump(data_yaml, outfile, default_flow_style=True)\n",
        "\n",
        "%cat data.yaml\n"
      ],
      "metadata": {
        "colab": {
          "base_uri": "https://localhost:8080/"
        },
        "id": "tBpj0wpPewn8",
        "outputId": "d27af6a1-7af0-4d0a-fb81-4ff1f5a3aa6f"
      },
      "execution_count": 106,
      "outputs": [
        {
          "output_type": "stream",
          "name": "stdout",
          "text": [
            "{names: [Aluminium foil, Bottle cap, Bottle, Broken glass, Can, Carton, Cigarette,\n",
            "    Cup, Lid, Other litter, Other plastic, Paper, Plastic bag - wrapper, Plastic container,\n",
            "    Pop tab, Straw, Styrofoam piece, Unlabeled litter], nc: 18, test: /root/.cache/kagglehub/datasets/vencerlanz09/taco-dataset-yolo-format/versions/1/test,\n",
            "  train: /root/.cache/kagglehub/datasets/vencerlanz09/taco-dataset-yolo-format/versions/1/train,\n",
            "  val: /root/.cache/kagglehub/datasets/vencerlanz09/taco-dataset-yolo-format/versions/1/valid}\n"
          ]
        }
      ]
    },
    {
      "cell_type": "code",
      "source": [
        "names =['Aluminium foil', 'Bottle cap', 'Bottle', 'Broken glass', 'Can',\n",
        "        'Carton', 'Cigarette', 'Cup', 'Lid', 'Other litter', 'Other plastic',\n",
        "        'Paper', 'Plastic bag - wrapper', 'Plastic container', 'Pop tab',\n",
        "        'Straw', 'Styrofoam piece', 'Unlabeled litter']\n",
        "N=list(range(len(names)))\n",
        "class_map=dict(zip(N,names))"
      ],
      "metadata": {
        "id": "noXxglkCg0Xj"
      },
      "execution_count": 107,
      "outputs": []
    },
    {
      "cell_type": "code",
      "source": [
        "model = YOLO(\"yolov8x.pt\")"
      ],
      "metadata": {
        "id": "qhyalOQog7My"
      },
      "execution_count": 108,
      "outputs": []
    },
    {
      "cell_type": "code",
      "source": [
        "!yolo task=detect mode=train model=yolov8x.pt data=data.yaml epochs=1 imgsz=512"
      ],
      "metadata": {
        "colab": {
          "base_uri": "https://localhost:8080/"
        },
        "id": "4ieVCLP3g8Zl",
        "outputId": "7d7d2b60-1fc7-4f03-9259-ee22a271533b"
      },
      "execution_count": null,
      "outputs": [
        {
          "output_type": "stream",
          "name": "stdout",
          "text": [
            "Ultralytics 8.3.49 🚀 Python-3.10.12 torch-2.5.1+cu121 CPU (Intel Xeon 2.20GHz)\n",
            "\u001b[34m\u001b[1mengine/trainer: \u001b[0mtask=detect, mode=train, model=yolov8x.pt, data=data.yaml, epochs=1, time=None, patience=100, batch=16, imgsz=512, save=True, save_period=-1, cache=False, device=None, workers=8, project=None, name=train16, exist_ok=False, pretrained=True, optimizer=auto, verbose=True, seed=0, deterministic=True, single_cls=False, rect=False, cos_lr=False, close_mosaic=10, resume=False, amp=True, fraction=1.0, profile=False, freeze=None, multi_scale=False, overlap_mask=True, mask_ratio=4, dropout=0.0, val=True, split=val, save_json=False, save_hybrid=False, conf=None, iou=0.7, max_det=300, half=False, dnn=False, plots=True, source=None, vid_stride=1, stream_buffer=False, visualize=False, augment=False, agnostic_nms=False, classes=None, retina_masks=False, embed=None, show=False, save_frames=False, save_txt=False, save_conf=False, save_crop=False, show_labels=True, show_conf=True, show_boxes=True, line_width=None, format=torchscript, keras=False, optimize=False, int8=False, dynamic=False, simplify=True, opset=None, workspace=None, nms=False, lr0=0.01, lrf=0.01, momentum=0.937, weight_decay=0.0005, warmup_epochs=3.0, warmup_momentum=0.8, warmup_bias_lr=0.1, box=7.5, cls=0.5, dfl=1.5, pose=12.0, kobj=1.0, nbs=64, hsv_h=0.015, hsv_s=0.7, hsv_v=0.4, degrees=0.0, translate=0.1, scale=0.5, shear=0.0, perspective=0.0, flipud=0.0, fliplr=0.5, bgr=0.0, mosaic=1.0, mixup=0.0, copy_paste=0.0, copy_paste_mode=flip, auto_augment=randaugment, erasing=0.4, crop_fraction=1.0, cfg=None, tracker=botsort.yaml, save_dir=runs/detect/train16\n",
            "Overriding model.yaml nc=80 with nc=18\n",
            "\n",
            "                   from  n    params  module                                       arguments                     \n",
            "  0                  -1  1      2320  ultralytics.nn.modules.conv.Conv             [3, 80, 3, 2]                 \n",
            "  1                  -1  1    115520  ultralytics.nn.modules.conv.Conv             [80, 160, 3, 2]               \n",
            "  2                  -1  3    436800  ultralytics.nn.modules.block.C2f             [160, 160, 3, True]           \n",
            "  3                  -1  1    461440  ultralytics.nn.modules.conv.Conv             [160, 320, 3, 2]              \n",
            "  4                  -1  6   3281920  ultralytics.nn.modules.block.C2f             [320, 320, 6, True]           \n",
            "  5                  -1  1   1844480  ultralytics.nn.modules.conv.Conv             [320, 640, 3, 2]              \n",
            "  6                  -1  6  13117440  ultralytics.nn.modules.block.C2f             [640, 640, 6, True]           \n",
            "  7                  -1  1   3687680  ultralytics.nn.modules.conv.Conv             [640, 640, 3, 2]              \n",
            "  8                  -1  3   6969600  ultralytics.nn.modules.block.C2f             [640, 640, 3, True]           \n",
            "  9                  -1  1   1025920  ultralytics.nn.modules.block.SPPF            [640, 640, 5]                 \n",
            " 10                  -1  1         0  torch.nn.modules.upsampling.Upsample         [None, 2, 'nearest']          \n",
            " 11             [-1, 6]  1         0  ultralytics.nn.modules.conv.Concat           [1]                           \n",
            " 12                  -1  3   7379200  ultralytics.nn.modules.block.C2f             [1280, 640, 3]                \n",
            " 13                  -1  1         0  torch.nn.modules.upsampling.Upsample         [None, 2, 'nearest']          \n",
            " 14             [-1, 4]  1         0  ultralytics.nn.modules.conv.Concat           [1]                           \n",
            " 15                  -1  3   1948800  ultralytics.nn.modules.block.C2f             [960, 320, 3]                 \n",
            " 16                  -1  1    922240  ultralytics.nn.modules.conv.Conv             [320, 320, 3, 2]              \n",
            " 17            [-1, 12]  1         0  ultralytics.nn.modules.conv.Concat           [1]                           \n",
            " 18                  -1  3   7174400  ultralytics.nn.modules.block.C2f             [960, 640, 3]                 \n",
            " 19                  -1  1   3687680  ultralytics.nn.modules.conv.Conv             [640, 640, 3, 2]              \n",
            " 20             [-1, 9]  1         0  ultralytics.nn.modules.conv.Concat           [1]                           \n",
            " 21                  -1  3   7379200  ultralytics.nn.modules.block.C2f             [1280, 640, 3]                \n",
            " 22        [15, 18, 21]  1   8735302  ultralytics.nn.modules.head.Detect           [18, [320, 640, 640]]         \n",
            "Model summary: 365 layers, 68,169,942 parameters, 68,169,926 gradients, 258.2 GFLOPs\n",
            "\n",
            "Transferred 589/595 items from pretrained weights\n",
            "\u001b[34m\u001b[1mTensorBoard: \u001b[0mStart with 'tensorboard --logdir runs/detect/train16', view at http://localhost:6006/\n",
            "Freezing layer 'model.22.dfl.conv.weight'\n",
            "\u001b[34m\u001b[1mtrain: \u001b[0mScanning /root/.cache/kagglehub/datasets/vencerlanz09/taco-dataset-yolo-format/versions/1/train/labels.cache... 4200 images, 0 backgrounds, 0 corrupt: 100% 4200/4200 [00:00<?, ?it/s]\n",
            "\u001b[34m\u001b[1malbumentations: \u001b[0mBlur(p=0.01, blur_limit=(3, 7)), MedianBlur(p=0.01, blur_limit=(3, 7)), ToGray(p=0.01), CLAHE(p=0.01, clip_limit=(1, 4.0), tile_grid_size=(8, 8))\n",
            "\u001b[34m\u001b[1mval: \u001b[0mScanning /root/.cache/kagglehub/datasets/vencerlanz09/taco-dataset-yolo-format/versions/1/valid/labels.cache... 1704 images, 0 backgrounds, 0 corrupt: 100% 1704/1704 [00:00<?, ?it/s]\n",
            "Plotting labels to runs/detect/train16/labels.jpg... \n",
            "\u001b[34m\u001b[1moptimizer:\u001b[0m 'optimizer=auto' found, ignoring 'lr0=0.01' and 'momentum=0.937' and determining best 'optimizer', 'lr0' and 'momentum' automatically... \n",
            "\u001b[34m\u001b[1moptimizer:\u001b[0m AdamW(lr=0.000455, momentum=0.9) with parameter groups 97 weight(decay=0.0), 104 weight(decay=0.0005), 103 bias(decay=0.0)\n"
          ]
        }
      ]
    },
    {
      "cell_type": "code",
      "source": [
        "paths2=[]\n",
        "for dirname, _, filenames in os.walk('runs/detect/train'):\n",
        "    for filename in filenames:\n",
        "        if filename[-4:]=='.jpg':\n",
        "            paths2+=[(os.path.join(dirname, filename))]\n",
        "paths2=sorted(paths2)"
      ],
      "metadata": {
        "id": "T97h0XwehEYY"
      },
      "execution_count": 101,
      "outputs": []
    },
    {
      "cell_type": "code",
      "source": [
        "for path in paths2:\n",
        "    image = Image.open(path)\n",
        "    image=np.array(image)\n",
        "    plt.figure(figsize=(20,10))\n",
        "    plt.imshow(image)\n",
        "    plt.show()"
      ],
      "metadata": {
        "id": "uSm0GpGOhejS"
      },
      "execution_count": 19,
      "outputs": []
    },
    {
      "cell_type": "code",
      "source": [
        "best_path0='runs/detect/train/weights/best.pt'\n",
        "source0='datasets/test'"
      ],
      "metadata": {
        "id": "MXrZZ9-51R1_"
      },
      "execution_count": null,
      "outputs": []
    },
    {
      "cell_type": "code",
      "source": [
        "ppaths=[]\n",
        "for dirname, _, filenames in os.walk(source0):\n",
        "    for filename in filenames:\n",
        "        if filename[-4:]=='.jpg':\n",
        "            ppaths+=[(os.path.join(dirname, filename))]\n",
        "ppaths=sorted(ppaths)\n",
        "print(ppaths[0])\n",
        "print(len(ppaths))"
      ],
      "metadata": {
        "id": "upVf1QWi1VYC"
      },
      "execution_count": null,
      "outputs": []
    },
    {
      "cell_type": "code",
      "source": [
        "model2 = YOLO(best_path0)"
      ],
      "metadata": {
        "id": "FQxhVZM51WDK"
      },
      "execution_count": null,
      "outputs": []
    },
    {
      "cell_type": "code",
      "source": [
        "!yolo task=detect mode=predict model={best_path0} conf=0.1 source={source0}"
      ],
      "metadata": {
        "id": "RZr-1Dyy1YmL"
      },
      "execution_count": null,
      "outputs": []
    },
    {
      "cell_type": "code",
      "source": [
        "results = model2.predict(source0,conf=0.1)\n",
        "print(len(results))"
      ],
      "metadata": {
        "id": "C3MnkqR91bjj"
      },
      "execution_count": null,
      "outputs": []
    },
    {
      "cell_type": "code",
      "source": [
        "print((results[0].boxes.data))"
      ],
      "metadata": {
        "id": "tMG6t1Lh1hMo"
      },
      "execution_count": null,
      "outputs": []
    },
    {
      "cell_type": "code",
      "source": [
        "PBOX=pd.DataFrame(columns=range(6))\n",
        "for i in range(len(results)):\n",
        "    arri=pd.DataFrame(results[i].boxes.data.cpu().numpy()).astype(float)\n",
        "    path=ppaths[i]\n",
        "    file=path.split('/')[-1]\n",
        "    arri=arri.assign(file=file)\n",
        "    arri=arri.assign(i=i)\n",
        "    PBOX=pd.concat([PBOX,arri],axis=0)\n",
        "PBOX.columns=['x','y','x2','y2','confidence','class','file','i']\n",
        "display(PBOX)"
      ],
      "metadata": {
        "id": "TwbmWDcR1jzS"
      },
      "execution_count": null,
      "outputs": []
    },
    {
      "cell_type": "code",
      "source": [
        "PBOX['class']=PBOX['class'].apply(lambda x: class_map[int(x)])\n",
        "PBOX=PBOX.reset_index(drop=True)\n",
        "display(PBOX)\n",
        "display(PBOX['class'].value_counts())"
      ],
      "metadata": {
        "id": "4Pal63cn1mHD"
      },
      "execution_count": null,
      "outputs": []
    },
    {
      "cell_type": "code",
      "source": [
        "def draw_box2(n0):\n",
        "\n",
        "    ipath=ppaths[n0]\n",
        "    image=cv2.imread(ipath)\n",
        "    H,W=image.shape[0],image.shape[1]\n",
        "    file=ipath.split('/')[-1]\n",
        "\n",
        "    if PBOX[PBOX['file']==file] is not None:\n",
        "        box=PBOX[PBOX['file']==file]\n",
        "        box=box.reset_index(drop=True)\n",
        "        #display(box)\n",
        "\n",
        "        for i in range(len(box)):\n",
        "            label=box.loc[i,'class']\n",
        "            x=int(box.loc[i,'x'])\n",
        "            y=int(box.loc[i,'y'])\n",
        "            x2=int(box.loc[i,'x2'])\n",
        "            y2=int(box.loc[i,'y2'])\n",
        "            #print(label,x,y,x2,y2)\n",
        "            cv2.putText(image, f'{label}', (x, int(y-4)),\n",
        "                        cv2.FONT_HERSHEY_SIMPLEX, 1.0, (0,255,0),2)\n",
        "            cv2.rectangle(image,(x,y),(x2,y2),(0,255,0),2) #green\n",
        "\n",
        "    #plt.imshow(image)\n",
        "    #plt.show()\n",
        "\n",
        "    return image"
      ],
      "metadata": {
        "id": "uaWgCFy81ryW"
      },
      "execution_count": null,
      "outputs": []
    },
    {
      "cell_type": "code",
      "source": [
        "def create_animation(ims):\n",
        "    fig=plt.figure(figsize=(12,8))\n",
        "    im=plt.imshow(cv2.cvtColor(ims[0],cv2.COLOR_BGR2RGB))\n",
        "    text = plt.text(0.05, 0.05, f'Slide {0}', transform=fig.transFigure, fontsize=14, color='blue')\n",
        "    plt.axis('off')\n",
        "    plt.close()\n",
        "\n",
        "    def animate_func(i):\n",
        "        im.set_array(cv2.cvtColor(ims[i],cv2.COLOR_BGR2RGB))\n",
        "        text.set_text(f'Slide {20+i}')\n",
        "        return [im]\n",
        "\n",
        "    return animation.FuncAnimation(fig, animate_func, frames=len(ims), interval=1000)"
      ],
      "metadata": {
        "id": "xDA3jpoP1stD"
      },
      "execution_count": null,
      "outputs": []
    },
    {
      "cell_type": "code",
      "source": [
        "images2=[]\n",
        "for i in tqdm(range(len(ppaths))):\n",
        "    images2+=[draw_box2(i)]"
      ],
      "metadata": {
        "id": "TOjI-3LK1xw2"
      },
      "execution_count": null,
      "outputs": []
    },
    {
      "cell_type": "code",
      "source": [
        "create_animation(images2)"
      ],
      "metadata": {
        "id": "HEx1XoWB10vo"
      },
      "execution_count": null,
      "outputs": []
    }
  ]
}